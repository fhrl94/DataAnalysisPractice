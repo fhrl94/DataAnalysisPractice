{
 "cells": [
  {
   "cell_type": "code",
   "execution_count": 1,
   "metadata": {},
   "outputs": [],
   "source": [
    "import graphviz\n",
    "import pandas as pd\n",
    "\n",
    "\n",
    "from sklearn import tree\n",
    "from sklearn.feature_extraction import DictVectorizer\n",
    "from sklearn.model_selection import cross_val_score\n",
    "from sklearn.tree import DecisionTreeClassifier"
   ]
  },
  {
   "cell_type": "code",
   "execution_count": 2,
   "metadata": {},
   "outputs": [],
   "source": [
    "# 读取数据\n",
    "df = pd.read_excel(\"判断男女.xlsx\")"
   ]
  },
  {
   "cell_type": "code",
   "execution_count": 3,
   "metadata": {},
   "outputs": [
    {
     "name": "stdout",
     "output_type": "stream",
     "text": [
      "<class 'pandas.core.frame.DataFrame'>\n",
      "RangeIndex: 8 entries, 0 to 7\n",
      "Data columns (total 5 columns):\n",
      "编号    8 non-null int64\n",
      "身高    8 non-null object\n",
      "体重    8 non-null object\n",
      "鞋码    8 non-null object\n",
      "性别    8 non-null object\n",
      "dtypes: int64(1), object(4)\n",
      "memory usage: 400.0+ bytes\n",
      "None\n"
     ]
    }
   ],
   "source": [
    "# 探索数据\n",
    "# 全局信息\n",
    "print(df.info())"
   ]
  },
  {
   "cell_type": "code",
   "execution_count": 4,
   "metadata": {},
   "outputs": [
    {
     "name": "stdout",
     "output_type": "stream",
     "text": [
      "            编号\n",
      "count  8.00000\n",
      "mean   4.50000\n",
      "std    2.44949\n",
      "min    1.00000\n",
      "25%    2.75000\n",
      "50%    4.50000\n",
      "75%    6.25000\n",
      "max    8.00000\n"
     ]
    }
   ],
   "source": [
    "# 连续型信息\n",
    "print(df.describe())"
   ]
  },
  {
   "cell_type": "code",
   "execution_count": 5,
   "metadata": {},
   "outputs": [
    {
     "name": "stdout",
     "output_type": "stream",
     "text": [
      "       身高 体重 鞋码 性别\n",
      "count   8  8  8  8\n",
      "unique  3  3  3  2\n",
      "top     中  中  中  男\n",
      "freq    3  4  3  4\n"
     ]
    }
   ],
   "source": [
    "# 离散型信息\n",
    "print(df.describe(include=[\"O\"]))"
   ]
  },
  {
   "cell_type": "code",
   "execution_count": 6,
   "metadata": {},
   "outputs": [
    {
     "name": "stdout",
     "output_type": "stream",
     "text": [
      "   编号 身高 体重 鞋码 性别\n",
      "0   1  高  重  大  男\n",
      "1   2  高  重  大  男\n",
      "2   3  中  中  大  男\n",
      "3   4  中  中  中  男\n",
      "4   5  矮  轻  小  女\n"
     ]
    }
   ],
   "source": [
    "# 输出前5个\n",
    "print(df.head())"
   ]
  },
  {
   "cell_type": "code",
   "execution_count": 7,
   "metadata": {},
   "outputs": [
    {
     "name": "stdout",
     "output_type": "stream",
     "text": [
      "   编号 身高 体重 鞋码 性别\n",
      "3   4  中  中  中  男\n",
      "4   5  矮  轻  小  女\n",
      "5   6  矮  轻  小  女\n",
      "6   7  矮  中  中  女\n",
      "7   8  中  中  中  女\n"
     ]
    }
   ],
   "source": [
    "# 输出后5个\n",
    "print(df.tail())"
   ]
  },
  {
   "cell_type": "code",
   "execution_count": 8,
   "metadata": {},
   "outputs": [
    {
     "name": "stdout",
     "output_type": "stream",
     "text": [
      "['体重=中', '体重=轻', '体重=重', '身高=中', '身高=矮', '身高=高', '鞋码=中', '鞋码=大', '鞋码=小']\n",
      "[[0. 0. 1. 0. 0. 1. 0. 1. 0.]\n",
      " [0. 0. 1. 0. 0. 1. 0. 1. 0.]\n",
      " [1. 0. 0. 1. 0. 0. 0. 1. 0.]\n",
      " [1. 0. 0. 1. 0. 0. 1. 0. 0.]\n",
      " [0. 1. 0. 0. 1. 0. 0. 0. 1.]\n",
      " [0. 1. 0. 0. 1. 0. 0. 0. 1.]\n",
      " [1. 0. 0. 0. 1. 0. 1. 0. 0.]\n",
      " [1. 0. 0. 1. 0. 0. 1. 0. 0.]]\n"
     ]
    }
   ],
   "source": [
    "# 选择特征数据\n",
    "features = [\"身高\", \"体重\", \"鞋码\"]\n",
    "df_features = df[features]\n",
    "# 选择结果数据\n",
    "df_labels = df[\"性别\"]\n",
    "# 生成特征值矩阵\n",
    "dvec = DictVectorizer(sparse=False)\n",
    "# 新矩阵\n",
    "df_features = dvec.fit_transform(df_features.to_dict(orient=\"record\"))\n",
    "print(dvec.feature_names_)\n",
    "print(df_features)"
   ]
  },
  {
   "cell_type": "code",
   "execution_count": 13,
   "metadata": {},
   "outputs": [
    {
     "name": "stdout",
     "output_type": "stream",
     "text": [
      "输出分类结果:\n",
      "['女']\n",
      "0.875\n"
     ]
    }
   ],
   "source": [
    "# 构造决策树ID3\n",
    "clf = DecisionTreeClassifier(criterion=\"entropy\")\n",
    "# 决策树训练\n",
    "clf.fit(df_features, df_labels)\n",
    "# 决策树预测\n",
    "# print(type(df_features))\n",
    "# print(pd.np.array([0, 1, 0, 0, 0, 1, 1, 0, 0,]))\n",
    "pred_labels = clf.predict(pd.np.array([[0, 1, 0, 0, 0, 1, 1, 0, 0,],]))\n",
    "# 输出分类结果\n",
    "print(\"输出分类结果:\")\n",
    "print(pred_labels)\n",
    "# 决策树准确率\n",
    "acc_decision_tree = round(clf.score(df_features, df_labels), 6)\n",
    "print(acc_decision_tree)"
   ]
  },
  {
   "cell_type": "code",
   "execution_count": 10,
   "metadata": {},
   "outputs": [
    {
     "data": {
      "text/plain": [
       "array(['男', '女'], dtype=object)"
      ]
     },
     "execution_count": 10,
     "metadata": {},
     "output_type": "execute_result"
    }
   ],
   "source": [
    "df_labels.unique()"
   ]
  },
  {
   "cell_type": "code",
   "execution_count": 11,
   "metadata": {
    "scrolled": true
   },
   "outputs": [
    {
     "name": "stdout",
     "output_type": "stream",
     "text": [
      "|--- 鞋码=大 <= 0.50\n",
      "|   |--- 身高=矮 <= 0.50\n",
      "|   |   |--- class: 女\n",
      "|   |--- 身高=矮 >  0.50\n",
      "|   |   |--- class: 女\n",
      "|--- 鞋码=大 >  0.50\n",
      "|   |--- class: 男\n",
      "\n"
     ]
    },
    {
     "data": {
      "text/plain": [
       "'判断男女决策树.png'"
      ]
     },
     "execution_count": 11,
     "metadata": {},
     "output_type": "execute_result"
    },
    {
     "data": {
      "image/png": "[encoded data removed]",
      "text/plain": [
       "<Figure size 432x288 with 1 Axes>"
      ]
     },
     "metadata": {
      "needs_background": "light"
     },
     "output_type": "display_data"
    }
   ],
   "source": [
    "# 绘制决策树\n",
    "decision_tree = \"判断男女决策树\"\n",
    "# 1.简单绘制决策树\n",
    "tree.plot_tree(clf)\n",
    "\n",
    "# 2.输出决策树, 文字版\n",
    "r = tree.export_text(decision_tree=clf, feature_names=dvec.feature_names_)\n",
    "print(r)\n",
    "\n",
    "# 3.Graphviz形式输出决策树\n",
    "# pip install graphviz\n",
    "# 然后官网下载安装包,并将bin路径添加到path中\n",
    "# 3.1Graphviz形式输出决策树(简单)\n",
    "dot_data = tree.export_graphviz(clf, out_file=None)\n",
    "graph = graphviz.Source(dot_data)\n",
    "graph.render(decision_tree)\n",
    "# 3.2Graphviz形式输出决策树(视觉优化)\n",
    "dot_data = tree.export_graphviz(\n",
    "    clf,\n",
    "    out_file=None,\n",
    "    feature_names=dvec.feature_names_,\n",
    "    class_names=df_labels.unique(),\n",
    "    filled=True,\n",
    "    rounded=True,\n",
    "    special_characters=True,\n",
    ")\n",
    "# 处理中文乱码\n",
    "graph = graphviz.Source(dot_data.replace(\"helvetica\", \"FangSong\"))\n",
    "# graph.render(\"决策树\")\n",
    "# 生成路径在当前文件夹内\n",
    "graph.view(decision_tree)\n",
    "# 生成图片\n",
    "graph.render(filename=decision_tree, format=\"png\")"
   ]
  }
 ],
 "metadata": {
  "kernelspec": {
   "display_name": "Python 3",
   "language": "python",
   "name": "python3"
  },
  "language_info": {
   "codemirror_mode": {
    "name": "ipython",
    "version": 3
   },
   "file_extension": ".py",
   "mimetype": "text/x-python",
   "name": "python",
   "nbconvert_exporter": "python",
   "pygments_lexer": "ipython3",
   "version": "3.7.3"
  }
 },
 "nbformat": 4,
 "nbformat_minor": 4
}
