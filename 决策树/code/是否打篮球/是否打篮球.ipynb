{
 "cells": [
  {
   "cell_type": "code",
   "execution_count": 1,
   "metadata": {},
   "outputs": [],
   "source": [
    "import graphviz\n",
    "import pandas as pd\n",
    "\n",
    "\n",
    "from sklearn import tree\n",
    "from sklearn.feature_extraction import DictVectorizer\n",
    "from sklearn.tree import DecisionTreeClassifier"
   ]
  },
  {
   "cell_type": "code",
   "execution_count": 4,
   "metadata": {},
   "outputs": [],
   "source": [
    "# 读取数据\n",
    "df = pd.read_excel(\"是否打篮球决策.xlsx\")"
   ]
  },
  {
   "cell_type": "code",
   "execution_count": 5,
   "metadata": {},
   "outputs": [
    {
     "name": "stdout",
     "output_type": "stream",
     "text": [
      "<class 'pandas.core.frame.DataFrame'>\n",
      "RangeIndex: 7 entries, 0 to 6\n",
      "Data columns (total 6 columns):\n",
      "ID       7 non-null int64\n",
      "天气       7 non-null object\n",
      "温度       7 non-null object\n",
      "湿度       7 non-null object\n",
      "刮风       7 non-null object\n",
      "是否打篮球    7 non-null object\n",
      "dtypes: int64(1), object(5)\n",
      "memory usage: 416.0+ bytes\n",
      "None\n"
     ]
    }
   ],
   "source": [
    "# 探索数据\n",
    "# 数据信息\n",
    "print(df.info())"
   ]
  },
  {
   "cell_type": "code",
   "execution_count": 6,
   "metadata": {},
   "outputs": [
    {
     "name": "stdout",
     "output_type": "stream",
     "text": [
      "             ID\n",
      "count  7.000000\n",
      "mean   4.000000\n",
      "std    2.160247\n",
      "min    1.000000\n",
      "25%    2.500000\n",
      "50%    4.000000\n",
      "75%    5.500000\n",
      "max    7.000000\n"
     ]
    }
   ],
   "source": [
    "# 连续型描述\n",
    "print(df.describe())"
   ]
  },
  {
   "cell_type": "code",
   "execution_count": 7,
   "metadata": {},
   "outputs": [
    {
     "name": "stdout",
     "output_type": "stream",
     "text": [
      "        天气 温度 湿度 刮风 是否打篮球\n",
      "count    7  7  7  7     7\n",
      "unique   3  3  2  2     2\n",
      "top     晴天  高  高  否     否\n",
      "freq     3  4  4  4     4\n"
     ]
    }
   ],
   "source": [
    "# 离散型描述,参数是字母 O, 不是0\n",
    "print(df.describe(include=[\"O\"]))"
   ]
  },
  {
   "cell_type": "code",
   "execution_count": 8,
   "metadata": {},
   "outputs": [
    {
     "name": "stdout",
     "output_type": "stream",
     "text": [
      "   ID  天气 温度 湿度 刮风 是否打篮球\n",
      "0   1  晴天  高  中  否     否\n",
      "1   2  晴天  高  中  是     否\n",
      "2   3  阴天  高  高  否     是\n",
      "3   4  小雨  高  高  否     是\n",
      "4   5  小雨  低  高  否     否\n"
     ]
    }
   ],
   "source": [
    "# 输出前5个数据\n",
    "print(df.head())"
   ]
  },
  {
   "cell_type": "code",
   "execution_count": 9,
   "metadata": {},
   "outputs": [
    {
     "name": "stdout",
     "output_type": "stream",
     "text": [
      "   ID  天气 温度 湿度 刮风 是否打篮球\n",
      "2   3  阴天  高  高  否     是\n",
      "3   4  小雨  高  高  否     是\n",
      "4   5  小雨  低  高  否     否\n",
      "5   6  晴天  中  中  是     是\n",
      "6   7  阴天  中  高  是     否\n"
     ]
    }
   ],
   "source": [
    "# 输出后5个数据\n",
    "print(df.tail())"
   ]
  },
  {
   "cell_type": "code",
   "execution_count": 14,
   "metadata": {},
   "outputs": [
    {
     "name": "stdout",
     "output_type": "stream",
     "text": [
      "['刮风=否', '刮风=是', '天气=小雨', '天气=晴天', '天气=阴天', '温度=中', '温度=低', '温度=高', '湿度=中', '湿度=高']\n",
      "[[1. 0. 0. 1. 0. 0. 0. 1. 1. 0.]\n",
      " [0. 1. 0. 1. 0. 0. 0. 1. 1. 0.]\n",
      " [1. 0. 0. 0. 1. 0. 0. 1. 0. 1.]\n",
      " [1. 0. 1. 0. 0. 0. 0. 1. 0. 1.]\n",
      " [1. 0. 1. 0. 0. 0. 1. 0. 0. 1.]\n",
      " [0. 1. 0. 1. 0. 1. 0. 0. 1. 0.]\n",
      " [0. 1. 0. 0. 1. 1. 0. 0. 0. 1.]]\n"
     ]
    }
   ],
   "source": [
    "# 选择特征数据\n",
    "features = [\"天气\", \"温度\", \"湿度\", \"刮风\"]\n",
    "df_features = df[features]\n",
    "# 选择结果数据\n",
    "df_labels = df[\"是否打篮球\"]\n",
    "# 生成特征值矩阵\n",
    "dvec = DictVectorizer(sparse=False)\n",
    "# 新矩阵\n",
    "df_features = dvec.fit_transform(df_features.to_dict(orient=\"record\"))\n",
    "print(dvec.feature_names_)\n",
    "print(df_features)"
   ]
  },
  {
   "cell_type": "code",
   "execution_count": 11,
   "metadata": {},
   "outputs": [
    {
     "name": "stdout",
     "output_type": "stream",
     "text": [
      "1.0\n"
     ]
    }
   ],
   "source": [
    "# 构造决策树ID3\n",
    "clf = DecisionTreeClassifier(criterion=\"entropy\")\n",
    "# 决策树训练\n",
    "clf.fit(df_features, df_labels)\n",
    "# 决策树预测\n",
    "pred_labels = clf.predict(df_features)\n",
    "# 决策树准确率\n",
    "acc_decision_tree = round(clf.score(df_features, df_labels), 6)\n",
    "print(acc_decision_tree)"
   ]
  },
  {
   "cell_type": "code",
   "execution_count": 16,
   "metadata": {},
   "outputs": [
    {
     "name": "stdout",
     "output_type": "stream",
     "text": [
      "|--- 温度=低 <= 0.50\n",
      "|   |--- 天气=小雨 <= 0.50\n",
      "|   |   |--- 温度=高 <= 0.50\n",
      "|   |   |   |--- 湿度=中 <= 0.50\n",
      "|   |   |   |   |--- class: 否\n",
      "|   |   |   |--- 湿度=中 >  0.50\n",
      "|   |   |   |   |--- class: 是\n",
      "|   |   |--- 温度=高 >  0.50\n",
      "|   |   |   |--- 天气=阴天 <= 0.50\n",
      "|   |   |   |   |--- class: 否\n",
      "|   |   |   |--- 天气=阴天 >  0.50\n",
      "|   |   |   |   |--- class: 是\n",
      "|   |--- 天气=小雨 >  0.50\n",
      "|   |   |--- class: 是\n",
      "|--- 温度=低 >  0.50\n",
      "|   |--- class: 否\n",
      "\n"
     ]
    },
    {
     "data": {
      "text/plain": [
       "'决策树.pdf'"
      ]
     },
     "execution_count": 16,
     "metadata": {},
     "output_type": "execute_result"
    },
    {
     "data": {
      "image/png": "[encoded data removed]",
      "text/plain": [
       "<Figure size 432x288 with 1 Axes>"
      ]
     },
     "metadata": {
      "needs_background": "light"
     },
     "output_type": "display_data"
    }
   ],
   "source": [
    "# 绘制决策树\n",
    "# 1.简单绘制决策树\n",
    "tree.plot_tree(clf)\n",
    "\n",
    "# 2.输出决策树, 文字版\n",
    "r = tree.export_text(decision_tree=clf, feature_names=dvec.feature_names_)\n",
    "print(r)\n",
    "\n",
    "# 3.Graphviz形式输出决策树\n",
    "# pip install graphviz\n",
    "# 然后官网下载安装包,并将bin路径添加到path中\n",
    "# 3.1Graphviz形式输出决策树(简单)\n",
    "dot_data = tree.export_graphviz(clf, out_file=None)\n",
    "graph = graphviz.Source(dot_data)\n",
    "graph.render(\"决策树\")\n",
    "# 3.2Graphviz形式输出决策树(视觉优化)\n",
    "dot_data = tree.export_graphviz(\n",
    "    clf,\n",
    "    out_file=None,\n",
    "    feature_names=dvec.feature_names_,\n",
    "    class_names=[\"不打篮球\", \"打篮球\"],\n",
    "    filled=True,\n",
    "    rounded=True,\n",
    "    special_characters=True,\n",
    ")\n",
    "# 处理中文乱码\n",
    "graph = graphviz.Source(dot_data.replace(\"helvetica\", \"FangSong\"))\n",
    "# graph.render(\"决策树\")\n",
    "# 生成路径在当前文件夹内\n",
    "graph.view(\"决策树\")\n",
    "# 生成图片\n",
    "# graph.render(filename=\"决策树\", format=\"png\")"
   ]
  },
  {
   "cell_type": "code",
   "execution_count": null,
   "metadata": {},
   "outputs": [],
   "source": []
  }
 ],
 "metadata": {
  "kernelspec": {
   "display_name": "Python 3",
   "language": "python",
   "name": "python3"
  },
  "language_info": {
   "codemirror_mode": {
    "name": "ipython",
    "version": 3
   },
   "file_extension": ".py",
   "mimetype": "text/x-python",
   "name": "python",
   "nbconvert_exporter": "python",
   "pygments_lexer": "ipython3",
   "version": "3.7.3"
  }
 },
 "nbformat": 4,
 "nbformat_minor": 4
}
