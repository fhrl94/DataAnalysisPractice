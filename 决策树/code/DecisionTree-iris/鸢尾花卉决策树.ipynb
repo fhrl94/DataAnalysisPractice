{
 "cells": [
  {
   "cell_type": "code",
   "execution_count": 15,
   "metadata": {},
   "outputs": [],
   "source": [
    "import graphviz\n",
    "import pandas as pd\n",
    "\n",
    "\n",
    "from sklearn import tree\n",
    "from sklearn.feature_extraction import DictVectorizer\n",
    "from sklearn.model_selection import cross_val_score\n",
    "from sklearn.tree import DecisionTreeClassifier"
   ]
  },
  {
   "cell_type": "code",
   "execution_count": 2,
   "metadata": {},
   "outputs": [],
   "source": [
    "# 读取数据\n",
    "df = pd.read_csv(\"Iris.csv\")"
   ]
  },
  {
   "cell_type": "code",
   "execution_count": 3,
   "metadata": {},
   "outputs": [
    {
     "name": "stdout",
     "output_type": "stream",
     "text": [
      "<class 'pandas.core.frame.DataFrame'>\n",
      "RangeIndex: 150 entries, 0 to 149\n",
      "Data columns (total 5 columns):\n",
      "花萼长度      150 non-null float64\n",
      "花萼宽度      150 non-null float64\n",
      "花瓣长度      150 non-null float64\n",
      "花瓣宽度      150 non-null float64\n",
      "鸢尾花卉名称    150 non-null object\n",
      "dtypes: float64(4), object(1)\n",
      "memory usage: 5.9+ KB\n",
      "None\n"
     ]
    }
   ],
   "source": [
    "# 探索数据\n",
    "# 全局信息\n",
    "print(df.info())"
   ]
  },
  {
   "cell_type": "code",
   "execution_count": 4,
   "metadata": {},
   "outputs": [
    {
     "name": "stdout",
     "output_type": "stream",
     "text": [
      "             花萼长度        花萼宽度        花瓣长度        花瓣宽度\n",
      "count  150.000000  150.000000  150.000000  150.000000\n",
      "mean     5.843333    3.054000    3.758667    1.198667\n",
      "std      0.828066    0.433594    1.764420    0.763161\n",
      "min      4.300000    2.000000    1.000000    0.100000\n",
      "25%      5.100000    2.800000    1.600000    0.300000\n",
      "50%      5.800000    3.000000    4.350000    1.300000\n",
      "75%      6.400000    3.300000    5.100000    1.800000\n",
      "max      7.900000    4.400000    6.900000    2.500000\n"
     ]
    }
   ],
   "source": [
    "# 连续型信息\n",
    "print(df.describe())"
   ]
  },
  {
   "cell_type": "code",
   "execution_count": 5,
   "metadata": {},
   "outputs": [
    {
     "name": "stdout",
     "output_type": "stream",
     "text": [
      "       鸢尾花卉名称\n",
      "count     150\n",
      "unique      3\n",
      "top      杂色鸢尾\n",
      "freq       50\n"
     ]
    }
   ],
   "source": [
    "# 离散型信息\n",
    "print(df.describe(include=[\"O\"]))"
   ]
  },
  {
   "cell_type": "code",
   "execution_count": 6,
   "metadata": {},
   "outputs": [
    {
     "name": "stdout",
     "output_type": "stream",
     "text": [
      "   花萼长度  花萼宽度  花瓣长度  花瓣宽度 鸢尾花卉名称\n",
      "0   5.1   3.5   1.4   0.2    山鸢尾\n",
      "1   4.9   3.0   1.4   0.2    山鸢尾\n",
      "2   4.7   3.2   1.3   0.2    山鸢尾\n",
      "3   4.6   3.1   1.5   0.2    山鸢尾\n",
      "4   5.0   3.6   1.4   0.2    山鸢尾\n"
     ]
    }
   ],
   "source": [
    "# 输出前5个\n",
    "print(df.head())"
   ]
  },
  {
   "cell_type": "code",
   "execution_count": 7,
   "metadata": {},
   "outputs": [
    {
     "name": "stdout",
     "output_type": "stream",
     "text": [
      "     花萼长度  花萼宽度  花瓣长度  花瓣宽度  鸢尾花卉名称\n",
      "145   6.7   3.0   5.2   2.3  维吉尼亚鸢尾\n",
      "146   6.3   2.5   5.0   1.9  维吉尼亚鸢尾\n",
      "147   6.5   3.0   5.2   2.0  维吉尼亚鸢尾\n",
      "148   6.2   3.4   5.4   2.3  维吉尼亚鸢尾\n",
      "149   5.9   3.0   5.1   1.8  维吉尼亚鸢尾\n"
     ]
    }
   ],
   "source": [
    "# 输出后5个\n",
    "print(df.tail())"
   ]
  },
  {
   "cell_type": "code",
   "execution_count": 8,
   "metadata": {},
   "outputs": [
    {
     "name": "stdout",
     "output_type": "stream",
     "text": [
      "['花瓣宽度', '花瓣长度', '花萼宽度', '花萼长度']\n"
     ]
    }
   ],
   "source": [
    "# 选择特征数据\n",
    "features = [\"花萼长度\", \"花萼宽度\", \"花瓣长度\",\"花瓣宽度\"]\n",
    "df_features = df[features]\n",
    "# 选择结果数据\n",
    "df_labels = df[\"鸢尾花卉名称\"]\n",
    "# 生成特征值矩阵\n",
    "dvec = DictVectorizer(sparse=False)\n",
    "# 新矩阵\n",
    "df_features = dvec.fit_transform(df_features.to_dict(orient=\"record\"))\n",
    "# 是连续性矩阵,不需要转换\n",
    "print(dvec.feature_names_)\n",
    "# print(df_features)"
   ]
  },
  {
   "cell_type": "code",
   "execution_count": 9,
   "metadata": {},
   "outputs": [
    {
     "name": "stdout",
     "output_type": "stream",
     "text": [
      "1.0\n"
     ]
    }
   ],
   "source": [
    "# 构造决策树ID3\n",
    "clf = DecisionTreeClassifier(criterion=\"entropy\")\n",
    "# 决策树训练\n",
    "clf.fit(df_features, df_labels)\n",
    "# 决策树预测\n",
    "pred_labels = clf.predict(df_features)\n",
    "# 决策树准确率\n",
    "acc_decision_tree = round(clf.score(df_features, df_labels), 6)\n",
    "print(acc_decision_tree)"
   ]
  },
  {
   "cell_type": "code",
   "execution_count": 10,
   "metadata": {},
   "outputs": [
    {
     "data": {
      "text/plain": [
       "array(['山鸢尾', '杂色鸢尾', '维吉尼亚鸢尾'], dtype=object)"
      ]
     },
     "execution_count": 10,
     "metadata": {},
     "output_type": "execute_result"
    }
   ],
   "source": [
    "df_labels.unique()"
   ]
  },
  {
   "cell_type": "code",
   "execution_count": 13,
   "metadata": {
    "scrolled": true
   },
   "outputs": [
    {
     "name": "stdout",
     "output_type": "stream",
     "text": [
      "|--- 花瓣宽度 <= 0.80\n",
      "|   |--- class: 山鸢尾\n",
      "|--- 花瓣宽度 >  0.80\n",
      "|   |--- 花瓣宽度 <= 1.75\n",
      "|   |   |--- 花瓣长度 <= 4.95\n",
      "|   |   |   |--- 花瓣宽度 <= 1.65\n",
      "|   |   |   |   |--- class: 杂色鸢尾\n",
      "|   |   |   |--- 花瓣宽度 >  1.65\n",
      "|   |   |   |   |--- class: 维吉尼亚鸢尾\n",
      "|   |   |--- 花瓣长度 >  4.95\n",
      "|   |   |   |--- 花瓣宽度 <= 1.55\n",
      "|   |   |   |   |--- class: 维吉尼亚鸢尾\n",
      "|   |   |   |--- 花瓣宽度 >  1.55\n",
      "|   |   |   |   |--- 花萼长度 <= 6.95\n",
      "|   |   |   |   |   |--- class: 杂色鸢尾\n",
      "|   |   |   |   |--- 花萼长度 >  6.95\n",
      "|   |   |   |   |   |--- class: 维吉尼亚鸢尾\n",
      "|   |--- 花瓣宽度 >  1.75\n",
      "|   |   |--- 花瓣长度 <= 4.85\n",
      "|   |   |   |--- 花萼长度 <= 5.95\n",
      "|   |   |   |   |--- class: 杂色鸢尾\n",
      "|   |   |   |--- 花萼长度 >  5.95\n",
      "|   |   |   |   |--- class: 维吉尼亚鸢尾\n",
      "|   |   |--- 花瓣长度 >  4.85\n",
      "|   |   |   |--- class: 维吉尼亚鸢尾\n",
      "\n"
     ]
    },
    {
     "data": {
      "text/plain": [
       "'鸢尾花卉决策树.png'"
      ]
     },
     "execution_count": 13,
     "metadata": {},
     "output_type": "execute_result"
    },
    {
     "data": {
      "image/png": "[encoded data removed]",
      "text/plain": [
       "<Figure size 432x288 with 1 Axes>"
      ]
     },
     "metadata": {
      "needs_background": "light"
     },
     "output_type": "display_data"
    }
   ],
   "source": [
    "# 绘制决策树\n",
    "decision_tree = \"鸢尾花卉决策树\"\n",
    "# 1.简单绘制决策树\n",
    "tree.plot_tree(clf)\n",
    "\n",
    "# 2.输出决策树, 文字版\n",
    "r = tree.export_text(decision_tree=clf, feature_names=dvec.feature_names_)\n",
    "print(r)\n",
    "\n",
    "# 3.Graphviz形式输出决策树\n",
    "# pip install graphviz\n",
    "# 然后官网下载安装包,并将bin路径添加到path中\n",
    "# 3.1Graphviz形式输出决策树(简单)\n",
    "dot_data = tree.export_graphviz(clf, out_file=None)\n",
    "graph = graphviz.Source(dot_data)\n",
    "graph.render(decision_tree)\n",
    "# 3.2Graphviz形式输出决策树(视觉优化)\n",
    "dot_data = tree.export_graphviz(\n",
    "    clf,\n",
    "    out_file=None,\n",
    "    feature_names=dvec.feature_names_,\n",
    "    class_names=df_labels.unique(),\n",
    "    filled=True,\n",
    "    rounded=True,\n",
    "    special_characters=True,\n",
    ")\n",
    "# 处理中文乱码\n",
    "graph = graphviz.Source(dot_data.replace(\"helvetica\", \"FangSong\"))\n",
    "# graph.render(\"决策树\")\n",
    "# 生成路径在当前文件夹内\n",
    "graph.view(decision_tree)\n",
    "# 生成图片\n",
    "graph.render(filename=decision_tree, format=\"png\")"
   ]
  },
  {
   "cell_type": "code",
   "execution_count": 16,
   "metadata": {},
   "outputs": [
    {
     "name": "stdout",
     "output_type": "stream",
     "text": [
      "cross_val_score 准确率为 0.9600\n"
     ]
    }
   ],
   "source": [
    "# K 折交叉验证统计决策树准确率\n",
    "print(\n",
    "    u\"cross_val_score 准确率为 %.4lf\"\n",
    "    % pd.np.mean(cross_val_score(clf, df_features, df_labels, cv=10))\n",
    ")"
   ]
  }
 ],
 "metadata": {
  "kernelspec": {
   "display_name": "Python 3",
   "language": "python",
   "name": "python3"
  },
  "language_info": {
   "codemirror_mode": {
    "name": "ipython",
    "version": 3
   },
   "file_extension": ".py",
   "mimetype": "text/x-python",
   "name": "python",
   "nbconvert_exporter": "python",
   "pygments_lexer": "ipython3",
   "version": "3.7.3"
  }
 },
 "nbformat": 4,
 "nbformat_minor": 4
}
